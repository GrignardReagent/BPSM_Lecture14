{
 "cells": [
  {
   "cell_type": "code",
   "execution_count": 82,
   "outputs": [],
   "source": [
    "import numpy as np\n",
    "import pandas as pd\n",
    "import matplotlib.pyplot as plt\n",
    "import seaborn as sns"
   ],
   "metadata": {
    "collapsed": false,
    "ExecuteTime": {
     "end_time": "2023-11-05T21:22:16.393433600Z",
     "start_time": "2023-11-05T21:22:16.317908400Z"
    }
   },
   "id": "83873063396e9d1b"
  },
  {
   "cell_type": "code",
   "execution_count": null,
   "outputs": [],
   "source": [
    "# def get_at_content(some_dna):\n",
    "#     length = len(some_dna)\n",
    "#     a_count = some_dna.upper().count(\"A\")\n",
    "#     t_count = some_dna.upper().count(\"T\")\n",
    "#     at_content = ( a_count + t_count ) / length\n",
    "#     return at_content"
   ],
   "metadata": {
    "collapsed": false,
    "ExecuteTime": {
     "start_time": "2023-11-03T11:19:44.256763400Z"
    }
   },
   "id": "initial_id"
  },
  {
   "cell_type": "code",
   "execution_count": null,
   "outputs": [],
   "source": [
    "# def some_function_name(argument):\n",
    "#     somevariable1 = action_one (argument)\n",
    "#     somevariable2 = action_two (argument)\n",
    "#     somevariable3 = action_three (argument)\n",
    "#     return someresult"
   ],
   "metadata": {
    "collapsed": false,
    "ExecuteTime": {
     "start_time": "2023-11-03T11:19:44.258771500Z"
    }
   },
   "id": "a60d079a49552809"
  },
  {
   "cell_type": "code",
   "execution_count": 6,
   "outputs": [],
   "source": [
    "# Version 1 of our AT content function\n",
    "def get_at_content(dna):\n",
    "    length = len(dna)\n",
    "    a_count = dna.upper().count('A')\n",
    "    t_count = dna.upper().count('T')\n",
    "    at_content = (a_count + t_count) / length\n",
    "    return(at_content)\n"
   ],
   "metadata": {
    "collapsed": false,
    "ExecuteTime": {
     "end_time": "2023-11-03T11:20:02.033298400Z",
     "start_time": "2023-11-03T11:20:02.028791Z"
    }
   },
   "id": "bfcc4931f74b8fca"
  },
  {
   "cell_type": "code",
   "execution_count": 3,
   "outputs": [
    {
     "data": {
      "text/plain": "0.65"
     },
     "execution_count": 3,
     "metadata": {},
     "output_type": "execute_result"
    }
   ],
   "source": [
    "# Version 2 of our AT content function, with rounding of the results\n",
    "def get_at_content_v2(dna):\n",
    "    length = len(dna)\n",
    "    a_count = dna.upper().count('A')\n",
    "    t_count = dna.upper().count('T')\n",
    "    at_content = (a_count + t_count) / length\n",
    "    return round(at_content, 2)\n",
    "                 \n",
    "get_at_content_v2(\"ATGCGTAtttTTGAGCA\")"
   ],
   "metadata": {
    "collapsed": false,
    "ExecuteTime": {
     "end_time": "2023-11-03T11:19:51.347600400Z",
     "start_time": "2023-11-03T11:19:51.340844600Z"
    }
   },
   "id": "e916002467b14a0e"
  },
  {
   "cell_type": "code",
   "execution_count": 7,
   "outputs": [
    {
     "data": {
      "text/plain": "0.6470588235294118"
     },
     "execution_count": 7,
     "metadata": {},
     "output_type": "execute_result"
    }
   ],
   "source": [
    "get_at_content('ATGCGTAtttTTGAGCA')"
   ],
   "metadata": {
    "collapsed": false,
    "ExecuteTime": {
     "end_time": "2023-11-03T11:20:04.865588100Z",
     "start_time": "2023-11-03T11:20:04.860581300Z"
    }
   },
   "id": "c7cdb9029800327f"
  },
  {
   "cell_type": "code",
   "execution_count": 9,
   "outputs": [],
   "source": [
    "def get_at_content_v4(dna, sig_figs=2):\n",
    "    length = len(dna)\n",
    "    a_count = dna.upper().count('A')\n",
    "    t_count = dna.upper().count('T')\n",
    "    at_content = (a_count + t_count) / length\n",
    "    return round(at_content, sig_figs)"
   ],
   "metadata": {
    "collapsed": false,
    "ExecuteTime": {
     "end_time": "2023-11-03T11:20:17.647282800Z",
     "start_time": "2023-11-03T11:20:17.634516200Z"
    }
   },
   "id": "4a1033ebe90c08ae"
  },
  {
   "cell_type": "code",
   "execution_count": null,
   "outputs": [],
   "source": [
    "get_at_content_v4(\"ATGCGTATtttTGAGCA\", 4)"
   ],
   "metadata": {
    "collapsed": false
   },
   "id": "8934fe35073e4ff"
  },
  {
   "cell_type": "code",
   "execution_count": 10,
   "outputs": [
    {
     "name": "stdout",
     "output_type": "stream",
     "text": [
      "Was A or T? G: False\n",
      "Was A or T? A: True\n",
      "Was A or T? T: True\n",
      "Was A or T? C: False\n",
      "Was A or T? X: False\n"
     ]
    }
   ],
   "source": [
    "for base in 'gatcx':\n",
    "   print(\"Was A or T? \"+ base.upper() + \": \" + str(get_at_content_v4(base) == 1))\n"
   ],
   "metadata": {
    "collapsed": false,
    "ExecuteTime": {
     "end_time": "2023-11-03T11:21:06.386081Z",
     "start_time": "2023-11-03T11:21:06.382794400Z"
    }
   },
   "id": "83786fb456bb9406"
  },
  {
   "cell_type": "code",
   "execution_count": 13,
   "outputs": [],
   "source": [
    "assert get_at_content_v4(\"A\") == 1\n",
    "assert get_at_content_v4(\"AAA\") == 1\n",
    "assert get_at_content_v4(\"G\") == 0\n",
    "assert get_at_content_v4(\"ATGC\") == 0.5"
   ],
   "metadata": {
    "collapsed": false,
    "ExecuteTime": {
     "end_time": "2023-11-03T11:21:50.979012600Z",
     "start_time": "2023-11-03T11:21:50.972273700Z"
    }
   },
   "id": "66f74794d922b195"
  },
  {
   "cell_type": "code",
   "execution_count": 17,
   "outputs": [
    {
     "data": {
      "text/plain": "3.0199999999999996"
     },
     "execution_count": 17,
     "metadata": {},
     "output_type": "execute_result"
    }
   ],
   "source": [
    "1.01 + 2.01"
   ],
   "metadata": {
    "collapsed": false,
    "ExecuteTime": {
     "end_time": "2023-11-03T11:25:45.982167800Z",
     "start_time": "2023-11-03T11:25:45.978735Z"
    }
   },
   "id": "5b9f7e536fe37fca"
  },
  {
   "cell_type": "code",
   "execution_count": 18,
   "outputs": [
    {
     "data": {
      "text/plain": "False"
     },
     "execution_count": 18,
     "metadata": {},
     "output_type": "execute_result"
    }
   ],
   "source": [
    "get_at_content_v4(\"A\") == 1.000000000000001"
   ],
   "metadata": {
    "collapsed": false,
    "ExecuteTime": {
     "end_time": "2023-11-03T11:25:47.030224200Z",
     "start_time": "2023-11-03T11:25:47.024501600Z"
    }
   },
   "id": "49d287fad68df8fa"
  },
  {
   "cell_type": "code",
   "execution_count": 19,
   "outputs": [
    {
     "data": {
      "text/plain": "True"
     },
     "execution_count": 19,
     "metadata": {},
     "output_type": "execute_result"
    }
   ],
   "source": [
    "# Weirdly this returns true\n",
    "get_at_content_v4(\"A\") == 1.0000000000000001\n"
   ],
   "metadata": {
    "collapsed": false,
    "ExecuteTime": {
     "end_time": "2023-11-03T11:25:48.006348300Z",
     "start_time": "2023-11-03T11:25:48.002762300Z"
    }
   },
   "id": "cc65df6932c622c6"
  },
  {
   "cell_type": "code",
   "execution_count": 20,
   "outputs": [],
   "source": [
    "def add_two_numbers(a,b):\n",
    "\t    return a + b"
   ],
   "metadata": {
    "collapsed": false,
    "ExecuteTime": {
     "end_time": "2023-11-03T11:26:55.805408Z",
     "start_time": "2023-11-03T11:26:55.802883200Z"
    }
   },
   "id": "613211178db72937"
  },
  {
   "cell_type": "code",
   "execution_count": 21,
   "outputs": [],
   "source": [
    "def add_two_numbers_v2(a,b):\n",
    "    return round(a + b)"
   ],
   "metadata": {
    "collapsed": false,
    "ExecuteTime": {
     "end_time": "2023-11-03T11:40:32.762220500Z",
     "start_time": "2023-11-03T11:40:32.759698Z"
    }
   },
   "id": "2ebc36b24178015f"
  },
  {
   "cell_type": "markdown",
   "source": [
    "### Amino acid percentages, part one ###\n",
    "Write a Python function that takes two arguments (a protein sequence and an amino acid residue code) and returns the percentage of the protein that the amino acid makes up.\n",
    "\n",
    "Once you have written a function, use the following assertions to test your function:\n",
    "assert round(some_function_name(\"MSRSLLLRFLLFLLLLPPLP\", \"M\")) == round(5)\n",
    "assert round(some_function_name(\"MSRSLLLRFLLFLLLLPPLP\", \"r\")) == round(10)\n",
    "assert round(some_function_name(\"MSRSLLLRFLLFLLLLPPLP\", \"L\")) == round(50)\n",
    "assert round(some_function_name(\"MSRSLLLRFLLFLLLLPPLP\", \"Y\")) == round(0)\n",
    "\n",
    "Remember to change the name of the function in these assert statements to match your function name!"
   ],
   "metadata": {
    "collapsed": false
   },
   "id": "517293e71bb7548f"
  },
  {
   "cell_type": "code",
   "execution_count": 40,
   "outputs": [],
   "source": [
    "def get_aa_percentages(protein_seq,aa_residue):\n",
    "    ''' This function returns the percentage of the protein that the amino acid makes up'''\n",
    "    aa_residue = aa_residue.upper() # Making the input upper case so that our function would work\n",
    "    protein_len = len(protein_seq)\n",
    "    aa_residue_count = protein_seq.count(aa_residue) # Counting and saving aa in variable\n",
    "    percentage = aa_residue_count * 100 / protein_len # Need to times 100 to work \n",
    "    return round(percentage)"
   ],
   "metadata": {
    "collapsed": false,
    "ExecuteTime": {
     "end_time": "2023-11-03T11:58:51.911735200Z",
     "start_time": "2023-11-03T11:58:51.905830900Z"
    }
   },
   "id": "a4f17c5178f3fc10"
  },
  {
   "cell_type": "code",
   "execution_count": 41,
   "outputs": [
    {
     "data": {
      "text/plain": "10"
     },
     "execution_count": 41,
     "metadata": {},
     "output_type": "execute_result"
    }
   ],
   "source": [
    "get_aa_percentages(\"MSRSLLLRFLLFLLLLPPLP\", \"r\")"
   ],
   "metadata": {
    "collapsed": false,
    "ExecuteTime": {
     "end_time": "2023-11-03T11:58:57.199651100Z",
     "start_time": "2023-11-03T11:58:57.195103300Z"
    }
   },
   "id": "474ac67ed7c774cf"
  },
  {
   "cell_type": "code",
   "execution_count": 42,
   "outputs": [],
   "source": [
    "# ASSERTIONS\n",
    "assert round(get_aa_percentages(\"MSRSLLLRFLLFLLLLPPLP\", \"M\")) == round(5)\n",
    "assert round(get_aa_percentages(\"MSRSLLLRFLLFLLLLPPLP\", \"r\")) == round(10)\n",
    "assert round(get_aa_percentages(\"MSRSLLLRFLLFLLLLPPLP\", \"L\")) == round(50)\n",
    "assert round(get_aa_percentages(\"MSRSLLLRFLLFLLLLPPLP\", \"Y\")) == round(0)"
   ],
   "metadata": {
    "collapsed": false,
    "ExecuteTime": {
     "end_time": "2023-11-03T11:58:58.611545700Z",
     "start_time": "2023-11-03T11:58:58.610038400Z"
    }
   },
   "id": "4c5bad367113d576"
  },
  {
   "cell_type": "markdown",
   "source": [
    "### Amino acid percentages, part two\n",
    "Modify the function from the previous exercise above so that it accepts a list of amino acid residues rather than a single one, and count these within the protein sequence.\n",
    "If no list is given, the function should return the percentage of hydrophobic amino acid residues (i.e. amino acids A, I, L, M, F, W, Y, V).\n",
    "\n",
    "Your function should pass the following assertions:\n",
    "assert round(some_other_function_name(\"MSRSLLLRFLLFLLLLPPLP\", [\"M\"])) == 5\n",
    "assert round(some_other_function_name(\"MSRSLLLRFLLFLLLLPPLP\", ['F', 'S', 'L'])) == 70\n",
    "assert round(some_other_function_name(\"MSRSLLLRFLLFLLLLPPLP\")) == 65\n",
    "\n",
    "Hint: To get this one to work, you'll have to go through the list of amino acid residues one at a time, generate the count for each one, and come up with a total count.\n"
   ],
   "metadata": {
    "collapsed": false
   },
   "id": "ebf6379a48410fea"
  },
  {
   "cell_type": "code",
   "execution_count": 72,
   "outputs": [],
   "source": [
    "def get_aa_percentages_2(protein_seq,aa_residues=hydrophobic_aa):\n",
    "    ''' This function takes the protein sequence and an amino acid residue as inputs, and returns the percentage of the protein that the amino acid makes up. \n",
    "    It is able to take a LIST of aa and count their aa percentage within the protein sequence. If no list is given, hydrophobic aa% is given\n",
    "    The function defaults aa_residues to be hydrophobic_aa to avoid bugs if aa_residues is not defined'''\n",
    "    protein_len = len(protein_seq)\n",
    "    hydrophobic_aa = ['A', 'I', 'L', 'M', 'F', 'W', 'Y', 'V']\n",
    "    aa_residue_count = 0 # Defining this outside if and fors to collect values\n",
    "    if len(aa_residues) > 1 :\n",
    "        list_upper = []\n",
    "        for i in aa_residues:\n",
    "            list_upper.append(i.upper())\n",
    "        # print(list_upper) # debug line\n",
    "        for aa_residue in list_upper:\n",
    "            aa_residue_count += protein_seq.count(aa_residue) # Counting each residue percentage, adding and saving the count in variable   \n",
    "    elif type(aa_residues) != list and aa_residues[0] in hydrophobic_aa:\n",
    "            aa_residue = aa_residues[0].upper() # Making the input upper case so that our function would work\n",
    "            protein_len = len(protein_seq)\n",
    "            aa_residue_count = protein_seq.count(aa_residue) # Counting and saving aa in variable \n",
    "    else:  \n",
    "        for i in hydrophobic_aa:\n",
    "            aa_residue_count += protein_seq.count(i) # Counting the number of hydrophobic aas and saving the count in variable\n",
    "    \n",
    "    percentage = aa_residue_count * 100 / protein_len # Need to times 100 to work \n",
    "    return  percentage"
   ],
   "metadata": {
    "collapsed": false,
    "ExecuteTime": {
     "end_time": "2023-11-05T21:12:59.327779200Z",
     "start_time": "2023-11-05T21:12:59.324241600Z"
    }
   },
   "id": "b13eecc945c083b9"
  },
  {
   "cell_type": "code",
   "execution_count": 13,
   "outputs": [
    {
     "data": {
      "text/plain": "True"
     },
     "execution_count": 13,
     "metadata": {},
     "output_type": "execute_result"
    }
   ],
   "source": [
    "aa_residues = ['F', 'S', 'L']\n",
    "isinstance(aa_residues,list)"
   ],
   "metadata": {
    "collapsed": false,
    "ExecuteTime": {
     "end_time": "2023-11-05T23:33:39.246148100Z",
     "start_time": "2023-11-05T23:33:39.226640800Z"
    }
   },
   "id": "9260a04d17fc606a"
  },
  {
   "cell_type": "code",
   "execution_count": 11,
   "outputs": [
    {
     "data": {
      "text/plain": "True"
     },
     "execution_count": 11,
     "metadata": {},
     "output_type": "execute_result"
    }
   ],
   "source": [
    "type(aa_residues) == list"
   ],
   "metadata": {
    "collapsed": false,
    "ExecuteTime": {
     "end_time": "2023-11-05T23:33:11.086744300Z",
     "start_time": "2023-11-05T23:33:11.056168100Z"
    }
   },
   "id": "8359cc45a0d34082"
  },
  {
   "cell_type": "code",
   "execution_count": 73,
   "outputs": [
    {
     "data": {
      "text/plain": "70.0"
     },
     "execution_count": 73,
     "metadata": {},
     "output_type": "execute_result"
    }
   ],
   "source": [
    "get_aa_percentages_2(\"MSRSLLLRFLLFLLLLPPLP\", ['F', 'S', 'L'])"
   ],
   "metadata": {
    "collapsed": false,
    "ExecuteTime": {
     "end_time": "2023-11-05T21:13:04.000659200Z",
     "start_time": "2023-11-05T21:13:03.994812100Z"
    }
   },
   "id": "4480f7fa90b149e2"
  },
  {
   "cell_type": "code",
   "execution_count": 74,
   "outputs": [],
   "source": [
    "# ASSERTIONS\n",
    "assert round(get_aa_percentages_2(\"MSRSLLLRFLLFLLLLPPLP\", [\"M\"])) == 5\n",
    "assert round(get_aa_percentages_2(\"MSRSLLLRFLLFLLLLPPLP\", ['F', 'S', 'L'])) == 70\n",
    "assert round(get_aa_percentages_2(\"MSRSLLLRFLLFLLLLPPLP\")) == 65"
   ],
   "metadata": {
    "collapsed": false,
    "ExecuteTime": {
     "end_time": "2023-11-05T21:13:05.520474400Z",
     "start_time": "2023-11-05T21:13:05.515956800Z"
    }
   },
   "id": "1a1e97142c82de09"
  },
  {
   "cell_type": "markdown",
   "source": [
    "### Base counter ###\n",
    "Write a Python function that will take a DNA sequence along with an optional threshold and return True or False to indicate whether the DNA sequence contains a high proportion of undetermined bases (i.e not A, T, G or C).\n",
    "\n",
    "Write some assertions to test whether the function works."
   ],
   "metadata": {
    "collapsed": false
   },
   "id": "defa6f7967c0aa52"
  },
  {
   "cell_type": "code",
   "execution_count": 74,
   "outputs": [],
   "source": [
    "def determine_DNA(sequence, threshold=0.3):\n",
    "    '''This function will take a DNA sequence along with an optional threshold and return True or False to indicate whether the DNA sequence contains a high proportion of undetermined bases'''\n",
    "    sequence = sequence.upper() # Making the input upper case so that our function would work\n",
    "    seq_replaced = sequence.replace('A','').replace('T','').replace('G','').replace('C','')\n",
    "    proportion = len(seq_replaced)/len(sequence)\n",
    "    base_level = 'low'\n",
    "    if proportion > threshold and proportion < 0.7: \n",
    "        base_level = 'medium'\n",
    "    if proportion >= 0.7:\n",
    "        base_level = 'high'\n",
    "        \n",
    "    print(\"The undetermined base level for \",sequence,\"is\",base_level)"
   ],
   "metadata": {
    "collapsed": false,
    "ExecuteTime": {
     "end_time": "2023-11-03T12:48:28.058570100Z",
     "start_time": "2023-11-03T12:48:28.052386800Z"
    }
   },
   "id": "244403e19ddc03ba"
  },
  {
   "cell_type": "code",
   "execution_count": 75,
   "outputs": [
    {
     "name": "stdout",
     "output_type": "stream",
     "text": [
      "The undetermined base level for  MSRSLLLRFLLFATGCJSIWJSATGC is medium\n"
     ]
    }
   ],
   "source": [
    "sequence = \"MSRSLLLRFLLFATGCJSIWJSATGC\"\n",
    "# bases = ['A','T','G','C']\n",
    "# seq_replaced = sequence.replace('A','').replace('T','').replace('G','').replace('C','')\n",
    "# proportion = len(seq_replaced)/len(sequence)\n",
    "# base_level = 'low'\n",
    "# if proportion > 0.3 and proportion < 0.7: \n",
    "#         base_level = 'medium'\n",
    "# if proportion >= 0.7:\n",
    "#         base_level = 'high'        \n",
    "# print(base_level) \n",
    "# print(proportion)\n",
    "determine_DNA(sequence)"
   ],
   "metadata": {
    "collapsed": false,
    "ExecuteTime": {
     "end_time": "2023-11-03T12:48:50.516572700Z",
     "start_time": "2023-11-03T12:48:50.512314100Z"
    }
   },
   "id": "dba3be334746019b"
  },
  {
   "cell_type": "markdown",
   "source": [
    "### Kmer counting (again!)\n",
    "K-mers are short DNA subsequences with length \"k\" bases, and are usually generated using the sliding window method we used in previous lecture exercises.\n",
    "\n",
    "Write a Python function that, given any DNA sequence, will print all the k-mers (e.g. 4-mers) that occur more than n times.\n",
    "\n",
    "E.g. with dna=\"ATGCATCATG\", kmersize=2 and minfrequency=2 will output\n",
    "AT\n",
    "\n",
    "because the kmers (kmersize) are 2 bases long, and there are three (minfrequency was 2) instances of \"AT\"\n",
    "\n",
    "Code you wrote for the previous lecture's exercises could be useful here..."
   ],
   "metadata": {
    "collapsed": false
   },
   "id": "738a1157d1dee609"
  },
  {
   "cell_type": "code",
   "execution_count": 112,
   "outputs": [],
   "source": [
    "def kmer_counting(sequence,kmersize,minfrequency=2):\n",
    "    '''Input any sequence, and print out all the k-mers that occur more than n times (default = 2)'''\n",
    "    kmersfound = []\n",
    "    kmerrange = range(0,len(sequence))\n",
    "    for startingbase in kmerrange:\n",
    "        if (startingbase + kmersize) < len(sequence) + 1:\n",
    "            seqout = sequence[startingbase:startingbase+kmersize] # creating out sequence by indexing it\n",
    "            kmersfound = kmersfound + [seqout] #adding the sequence out to a list...\n",
    "    nonredundantset = set(kmersfound)\n",
    "    for kmer in nonredundantset:\n",
    "        if kmersfound.count(kmer) > minfrequency :\n",
    "            print('These are the kmers found to have a frequency > 2 :', kmer,'. It was found', str(kmersfound.count(kmer)), 'times')\n",
    "        else:\n",
    "            break"
   ],
   "metadata": {
    "collapsed": false,
    "ExecuteTime": {
     "end_time": "2023-11-05T22:21:00.256749700Z",
     "start_time": "2023-11-05T22:21:00.240473500Z"
    }
   },
   "id": "38b52b867fb90fc1"
  },
  {
   "cell_type": "code",
   "execution_count": 113,
   "outputs": [
    {
     "name": "stdout",
     "output_type": "stream",
     "text": [
      "These are the kmers found to have a frequency > 2 : AT . It was found 3 times\n"
     ]
    }
   ],
   "source": [
    "DNA = \"ATGCATCATG\"\n",
    "kmersize=2\n",
    "minfrequency=2\n",
    "kmer_counting(DNA, kmersize=2,minfrequency=2)"
   ],
   "metadata": {
    "collapsed": false,
    "ExecuteTime": {
     "end_time": "2023-11-05T22:21:01.611969Z",
     "start_time": "2023-11-05T22:21:01.583173500Z"
    }
   },
   "id": "d86c474fc99137db"
  },
  {
   "cell_type": "markdown",
   "source": [
    "### Kmer counting (and yet again!) ###\n",
    "Write a Python script/programme that, given any DNA sequence, will print a list of k-mers that occur more than some number of times.\n",
    "\n",
    "The user should be asked to supply, on the command line, the following:\n",
    "the sequence of interest\n",
    "the kmer length for analysis\n",
    "the threshold frequency of kmers found (i.e. the \"more than this number\" value)"
   ],
   "metadata": {
    "collapsed": false
   },
   "id": "75cc7a10b7977650"
  },
  {
   "cell_type": "code",
   "execution_count": 128,
   "outputs": [
    {
     "name": "stdout",
     "output_type": "stream",
     "text": [
      "Processing: \n",
      " ADHAUWHDAUWDHAWHDAUWDAUWHDAWD \n",
      " for a k-mer size of 2 \n",
      " reporting frequencies greater than  3\n",
      "These are the kmers found to have a frequency > 2 : AU . It was found 4 times\n",
      "These are the kmers found to have a frequency > 2 : UW . It was found 4 times\n",
      "These are the kmers found to have a frequency > 2 : DA . It was found 4 times\n",
      "Results:\n",
      "\n",
      "['4', '4', '4', ': ', ': ', ': ', 'AU', 'DA', 'UW']\n",
      "\n",
      "\n",
      "Contents of the output:\n",
      "\n",
      "kmerouts_KMER2_MIN3.txt\n"
     ]
    }
   ],
   "source": [
    "#!/usr/bin/python3\n",
    "import os\n",
    "\n",
    "def kmer_counting_v2(sequence,kmersize,minfrequency):\n",
    "    '''Input any sequence, and print out all the k-mers that occur more than n times (default = 2)'''\n",
    "    kmersfound = []\n",
    "    kmerrange = range(0,len(sequence))\n",
    "    for startingbase in kmerrange:\n",
    "        if (startingbase + kmersize) < len(sequence) + 1:\n",
    "            seqout = sequence[startingbase:startingbase+kmersize] # creating out sequence by indexing it\n",
    "            kmersfound = kmersfound + [seqout] #adding the sequence out to a list...\n",
    "    nonredundantset = set(kmersfound)\n",
    "    returnkmer = []\n",
    "    for kmer in nonredundantset:\n",
    "        if kmersfound.count(kmer) > minfrequency :\n",
    "            returnkmer.append(kmer.upper())\n",
    "            returnkmer.append(\": \")\n",
    "            returnkmer.append(str(kmersfound.count(kmer)))\n",
    "            print('These are the kmers found to have a frequency > 2 :', kmer,'. It was found', str(kmersfound.count(kmer)), 'times')\n",
    "    return returnkmer\n",
    "\n",
    "# User input the parameters for the function\n",
    "sequence = input(\"What is your sequence? \\n\").upper()\n",
    "if sequence:\n",
    "    kmersize = int(input(\"What kmer size are you looking for? \\n\") or 2) #default is 2 if no input\n",
    "    if kmersize < 2 or kmersize >= len(sequence) or kmersize > 50:\n",
    "        kmersize = 2\n",
    "        print(\"Inappropriate value chosen, resetting to default value (2)\\n\")\n",
    "    minfrequency = int(input(\"What minimum frequency of this kmer are you looking for? \\n\") or 2)\n",
    "    print(\"Processing: \\n\", str(sequence), \"\\n for a k-mer size of\", str(kmersize),\"\\n reporting frequencies greater than \", str(minfrequency))\n",
    "\n",
    "# Using our function with the parameters set by the user\n",
    "    output = kmer_counting_v2(sequence,kmersize,minfrequency)\n",
    "    output.sort()\n",
    "\n",
    "# Writing the output as a file\n",
    "    myfilename=\"kmerouts\"+\"_KMER\"+str(kmersize)+\"_MIN\"+str(minfrequency)+\".txt\"\n",
    "    outputfilepipe = open(myfilename,\"w\")\n",
    "\n",
    "# Checking whether there is output\n",
    "    if len(output) == 0 :\n",
    "        print(\"No kmers met the criteria, so no outputs to file!\\n\")\n",
    "        outputfilepipe.close()\n",
    "    else: # If there is indeed output...\n",
    "        print(\"Results:\\n\")\n",
    "        print(output)\n",
    "        # Send the outputs to the file\n",
    "        outputfilepipe.write(\"### Kmer analysis\\n#SQ \"+ str(sequence)+\"\\n#KMER \"+ str(kmersize)+ \"\\n#MIN \"+str(minfrequency)+\"\\n\")\n",
    "    for i in output :\n",
    "        outputfilepipe.write(i+\"\\n\")\n",
    "    outputfilepipe.write(\"\\n\")\n",
    "    outputfilepipe.close()\n",
    "    # Show where the files are saved\n",
    "    print(\"\\n\\nContents of the output:\\n\")\n",
    "    print(myfilename)\n",
    "    syscmd=\"cat \" + myfilename\n",
    "    os.system(syscmd)\n",
    "else:\n",
    "    print (\"Sorry, really can\\'t do any of this without a sequence!\\n\")\n"
   ],
   "metadata": {
    "collapsed": false,
    "ExecuteTime": {
     "end_time": "2023-11-05T23:03:51.636624700Z",
     "start_time": "2023-11-05T23:03:46.030437800Z"
    }
   },
   "id": "6ab6800be6b14b0b"
  },
  {
   "cell_type": "code",
   "execution_count": null,
   "outputs": [],
   "source": [],
   "metadata": {
    "collapsed": false
   },
   "id": "fda0a57186c514fd"
  },
  {
   "cell_type": "code",
   "execution_count": null,
   "outputs": [],
   "source": [],
   "metadata": {
    "collapsed": false
   },
   "id": "4680c569ea0e9af0"
  }
 ],
 "metadata": {
  "kernelspec": {
   "display_name": "Python 3",
   "language": "python",
   "name": "python3"
  },
  "language_info": {
   "codemirror_mode": {
    "name": "ipython",
    "version": 2
   },
   "file_extension": ".py",
   "mimetype": "text/x-python",
   "name": "python",
   "nbconvert_exporter": "python",
   "pygments_lexer": "ipython2",
   "version": "2.7.6"
  }
 },
 "nbformat": 4,
 "nbformat_minor": 5
}
